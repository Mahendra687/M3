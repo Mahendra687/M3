{
 "cells": [
  {
   "cell_type": "markdown",
   "id": "7392ecec",
   "metadata": {},
   "source": [
    "**Pyplot Formatting**\n",
    "\n",
    "Tired of those plain, boring graphs? Want them to convey more information at once? This is the perfect module for you then!"
   ]
  },
  {
   "cell_type": "markdown",
   "id": "b1dceea1",
   "metadata": {},
   "source": [
    "**Importing Libraries**"
   ]
  },
  {
   "cell_type": "code",
   "execution_count": 1,
   "id": "49ca61b6",
   "metadata": {},
   "outputs": [],
   "source": [
    "from pandas import*\n",
    "import pandas as pd\n",
    "from matplotlib import*\n",
    "import matplotlib.pyplot as plt\n",
    "from numpy import*\n",
    "import numpy as np"
   ]
  },
  {
   "cell_type": "markdown",
   "id": "db50087a",
   "metadata": {},
   "source": [
    "**Loading The Datasets**"
   ]
  },
  {
   "cell_type": "code",
   "execution_count": 2,
   "id": "a85ce5a6",
   "metadata": {},
   "outputs": [
    {
     "data": {
      "text/html": [
       "<div>\n",
       "<style scoped>\n",
       "    .dataframe tbody tr th:only-of-type {\n",
       "        vertical-align: middle;\n",
       "    }\n",
       "\n",
       "    .dataframe tbody tr th {\n",
       "        vertical-align: top;\n",
       "    }\n",
       "\n",
       "    .dataframe thead th {\n",
       "        text-align: right;\n",
       "    }\n",
       "</style>\n",
       "<table border=\"1\" class=\"dataframe\">\n",
       "  <thead>\n",
       "    <tr style=\"text-align: right;\">\n",
       "      <th></th>\n",
       "      <th>land_area</th>\n",
       "      <th>percent_city</th>\n",
       "      <th>percent_senior</th>\n",
       "      <th>physicians</th>\n",
       "      <th>hospital_beds</th>\n",
       "      <th>graduates</th>\n",
       "      <th>work_force</th>\n",
       "      <th>income</th>\n",
       "      <th>region</th>\n",
       "      <th>crime_rate</th>\n",
       "    </tr>\n",
       "  </thead>\n",
       "  <tbody>\n",
       "    <tr>\n",
       "      <th>0</th>\n",
       "      <td>1384</td>\n",
       "      <td>78.1</td>\n",
       "      <td>12.3</td>\n",
       "      <td>25627</td>\n",
       "      <td>69678</td>\n",
       "      <td>50.1</td>\n",
       "      <td>4083.9</td>\n",
       "      <td>72100</td>\n",
       "      <td>1</td>\n",
       "      <td>75.55</td>\n",
       "    </tr>\n",
       "    <tr>\n",
       "      <th>1</th>\n",
       "      <td>3719</td>\n",
       "      <td>43.9</td>\n",
       "      <td>9.4</td>\n",
       "      <td>13326</td>\n",
       "      <td>43292</td>\n",
       "      <td>53.9</td>\n",
       "      <td>3305.9</td>\n",
       "      <td>54542</td>\n",
       "      <td>2</td>\n",
       "      <td>56.03</td>\n",
       "    </tr>\n",
       "    <tr>\n",
       "      <th>2</th>\n",
       "      <td>3553</td>\n",
       "      <td>37.4</td>\n",
       "      <td>10.7</td>\n",
       "      <td>9724</td>\n",
       "      <td>33731</td>\n",
       "      <td>50.6</td>\n",
       "      <td>2066.3</td>\n",
       "      <td>33216</td>\n",
       "      <td>1</td>\n",
       "      <td>41.32</td>\n",
       "    </tr>\n",
       "    <tr>\n",
       "      <th>3</th>\n",
       "      <td>3916</td>\n",
       "      <td>29.9</td>\n",
       "      <td>8.8</td>\n",
       "      <td>6402</td>\n",
       "      <td>24167</td>\n",
       "      <td>52.2</td>\n",
       "      <td>1966.7</td>\n",
       "      <td>32906</td>\n",
       "      <td>2</td>\n",
       "      <td>67.38</td>\n",
       "    </tr>\n",
       "    <tr>\n",
       "      <th>4</th>\n",
       "      <td>2480</td>\n",
       "      <td>31.5</td>\n",
       "      <td>10.5</td>\n",
       "      <td>8502</td>\n",
       "      <td>16751</td>\n",
       "      <td>66.1</td>\n",
       "      <td>1514.5</td>\n",
       "      <td>26573</td>\n",
       "      <td>4</td>\n",
       "      <td>80.19</td>\n",
       "    </tr>\n",
       "  </tbody>\n",
       "</table>\n",
       "</div>"
      ],
      "text/plain": [
       "   land_area  percent_city  percent_senior  physicians  hospital_beds  \\\n",
       "0       1384          78.1            12.3       25627          69678   \n",
       "1       3719          43.9             9.4       13326          43292   \n",
       "2       3553          37.4            10.7        9724          33731   \n",
       "3       3916          29.9             8.8        6402          24167   \n",
       "4       2480          31.5            10.5        8502          16751   \n",
       "\n",
       "   graduates  work_force  income  region  crime_rate  \n",
       "0       50.1      4083.9   72100       1       75.55  \n",
       "1       53.9      3305.9   54542       2       56.03  \n",
       "2       50.6      2066.3   33216       1       41.32  \n",
       "3       52.2      1966.7   32906       2       67.38  \n",
       "4       66.1      1514.5   26573       4       80.19  "
      ]
     },
     "execution_count": 2,
     "metadata": {},
     "output_type": "execute_result"
    }
   ],
   "source": [
    "x = read_csv(\"Metropolitan Dataset.csv\")\n",
    "x.head()"
   ]
  },
  {
   "cell_type": "markdown",
   "id": "fbbc1eb0",
   "metadata": {},
   "source": [
    "**Plotting Consecutive Graphs**\n",
    "\n",
    "Plotting data on multiple consecutive figures can be done by calling the corresponding graphing functions and displaying each figure consecutively:"
   ]
  },
  {
   "cell_type": "code",
   "execution_count": 16,
   "id": "6aa1be15",
   "metadata": {},
   "outputs": [
    {
     "data": {
      "image/png": "[encoded data removed]",
      "text/plain": [
       "<Figure size 432x288 with 1 Axes>"
      ]
     },
     "metadata": {
      "needs_background": "light"
     },
     "output_type": "display_data"
    },
    {
     "data": {
      "image/png": "[encoded data removed]",
      "text/plain": [
       "<Figure size 432x288 with 1 Axes>"
      ]
     },
     "metadata": {
      "needs_background": "light"
     },
     "output_type": "display_data"
    }
   ],
   "source": [
    "plt.plot(x.work_force, x.income, color = 'r') #plot_one\n",
    "plt.show()\n",
    "\n",
    "plt.plot(x.physicians,x.income, color = \"b\") #plot_two\n",
    "plt.show()"
   ]
  },
  {
   "cell_type": "markdown",
   "id": "1515a239",
   "metadata": {},
   "source": [
    "**Combining Two Plots into One**\n",
    "\n",
    "What happens if you don't use plt.show() after the first figure? Both variables will be plotted in the same figure:"
   ]
  },
  {
   "cell_type": "code",
   "execution_count": 15,
   "id": "1a3f3f92",
   "metadata": {},
   "outputs": [
    {
     "data": {
      "image/png": "[encoded data removed]",
      "text/plain": [
       "<Figure size 432x288 with 1 Axes>"
      ]
     },
     "metadata": {
      "needs_background": "light"
     },
     "output_type": "display_data"
    }
   ],
   "source": [
    "plt.plot(x.work_force,x.income, color = \"r\")\n",
    "plt.plot(x.physicians, x.income, color = \"b\")\n",
    "\n",
    "plt.show()"
   ]
  }
 ],
 "metadata": {
  "kernelspec": {
   "display_name": "Python 3 (ipykernel)",
   "language": "python",
   "name": "python3"
  },
  "language_info": {
   "codemirror_mode": {
    "name": "ipython",
    "version": 3
   },
   "file_extension": ".py",
   "mimetype": "text/x-python",
   "name": "python",
   "nbconvert_exporter": "python",
   "pygments_lexer": "ipython3",
   "version": "3.9.7"
  }
 },
 "nbformat": 4,
 "nbformat_minor": 5
}
