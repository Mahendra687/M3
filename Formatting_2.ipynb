{
 "cells": [
  {
   "cell_type": "markdown",
   "id": "db8e89ad",
   "metadata": {},
   "source": [
    "**Making The Plots Descriptive**"
   ]
  },
  {
   "cell_type": "markdown",
   "id": "9791b5b5",
   "metadata": {},
   "source": [
    "**Learning Objectives**\n",
    "* Why should we make plots descriptive?\n",
    "* Adding a `Title`\n",
    "* Adding `Labels`\n",
    "* Adding a `legend`"
   ]
  },
  {
   "cell_type": "markdown",
   "id": "f97e3164",
   "metadata": {},
   "source": [
    "**Why should we make plots descriptive?**\n",
    "* The plots that we created in the previous module do the job but do you think any person who looks at those will be able to understand what they represent?\n",
    "* It's a good practice to make all the plots descriptive and easy to understand using Title, Labels and Legends."
   ]
  },
  {
   "cell_type": "markdown",
   "id": "d697a2bf",
   "metadata": {},
   "source": [
    "**Importing The Libraries:**"
   ]
  },
  {
   "cell_type": "code",
   "execution_count": 2,
   "id": "28c5c5f5",
   "metadata": {},
   "outputs": [],
   "source": [
    "from pandas import*\n",
    "import pandas as pd\n",
    "from matplotlib import*\n",
    "import matplotlib.pyplot as plt\n",
    "from numpy import*\n",
    "import numpy as np"
   ]
  },
  {
   "cell_type": "markdown",
   "id": "4bef2033",
   "metadata": {},
   "source": [
    "**Loading The Datasets**"
   ]
  },
  {
   "cell_type": "code",
   "execution_count": 3,
   "id": "6109d3b9",
   "metadata": {},
   "outputs": [
    {
     "data": {
      "text/html": [
       "<div>\n",
       "<style scoped>\n",
       "    .dataframe tbody tr th:only-of-type {\n",
       "        vertical-align: middle;\n",
       "    }\n",
       "\n",
       "    .dataframe tbody tr th {\n",
       "        vertical-align: top;\n",
       "    }\n",
       "\n",
       "    .dataframe thead th {\n",
       "        text-align: right;\n",
       "    }\n",
       "</style>\n",
       "<table border=\"1\" class=\"dataframe\">\n",
       "  <thead>\n",
       "    <tr style=\"text-align: right;\">\n",
       "      <th></th>\n",
       "      <th>land_area</th>\n",
       "      <th>percent_city</th>\n",
       "      <th>percent_senior</th>\n",
       "      <th>physicians</th>\n",
       "      <th>hospital_beds</th>\n",
       "      <th>graduates</th>\n",
       "      <th>work_force</th>\n",
       "      <th>income</th>\n",
       "      <th>region</th>\n",
       "      <th>crime_rate</th>\n",
       "    </tr>\n",
       "  </thead>\n",
       "  <tbody>\n",
       "    <tr>\n",
       "      <th>0</th>\n",
       "      <td>1384</td>\n",
       "      <td>78.1</td>\n",
       "      <td>12.3</td>\n",
       "      <td>25627</td>\n",
       "      <td>69678</td>\n",
       "      <td>50.1</td>\n",
       "      <td>4083.9</td>\n",
       "      <td>72100</td>\n",
       "      <td>1</td>\n",
       "      <td>75.55</td>\n",
       "    </tr>\n",
       "    <tr>\n",
       "      <th>1</th>\n",
       "      <td>3719</td>\n",
       "      <td>43.9</td>\n",
       "      <td>9.4</td>\n",
       "      <td>13326</td>\n",
       "      <td>43292</td>\n",
       "      <td>53.9</td>\n",
       "      <td>3305.9</td>\n",
       "      <td>54542</td>\n",
       "      <td>2</td>\n",
       "      <td>56.03</td>\n",
       "    </tr>\n",
       "    <tr>\n",
       "      <th>2</th>\n",
       "      <td>3553</td>\n",
       "      <td>37.4</td>\n",
       "      <td>10.7</td>\n",
       "      <td>9724</td>\n",
       "      <td>33731</td>\n",
       "      <td>50.6</td>\n",
       "      <td>2066.3</td>\n",
       "      <td>33216</td>\n",
       "      <td>1</td>\n",
       "      <td>41.32</td>\n",
       "    </tr>\n",
       "    <tr>\n",
       "      <th>3</th>\n",
       "      <td>3916</td>\n",
       "      <td>29.9</td>\n",
       "      <td>8.8</td>\n",
       "      <td>6402</td>\n",
       "      <td>24167</td>\n",
       "      <td>52.2</td>\n",
       "      <td>1966.7</td>\n",
       "      <td>32906</td>\n",
       "      <td>2</td>\n",
       "      <td>67.38</td>\n",
       "    </tr>\n",
       "    <tr>\n",
       "      <th>4</th>\n",
       "      <td>2480</td>\n",
       "      <td>31.5</td>\n",
       "      <td>10.5</td>\n",
       "      <td>8502</td>\n",
       "      <td>16751</td>\n",
       "      <td>66.1</td>\n",
       "      <td>1514.5</td>\n",
       "      <td>26573</td>\n",
       "      <td>4</td>\n",
       "      <td>80.19</td>\n",
       "    </tr>\n",
       "  </tbody>\n",
       "</table>\n",
       "</div>"
      ],
      "text/plain": [
       "   land_area  percent_city  percent_senior  physicians  hospital_beds  \\\n",
       "0       1384          78.1            12.3       25627          69678   \n",
       "1       3719          43.9             9.4       13326          43292   \n",
       "2       3553          37.4            10.7        9724          33731   \n",
       "3       3916          29.9             8.8        6402          24167   \n",
       "4       2480          31.5            10.5        8502          16751   \n",
       "\n",
       "   graduates  work_force  income  region  crime_rate  \n",
       "0       50.1      4083.9   72100       1       75.55  \n",
       "1       53.9      3305.9   54542       2       56.03  \n",
       "2       50.6      2066.3   33216       1       41.32  \n",
       "3       52.2      1966.7   32906       2       67.38  \n",
       "4       66.1      1514.5   26573       4       80.19  "
      ]
     },
     "execution_count": 3,
     "metadata": {},
     "output_type": "execute_result"
    }
   ],
   "source": [
    "x = read_csv(\"Metropolitan Dataset.csv\")\n",
    "x.head()"
   ]
  },
  {
   "cell_type": "markdown",
   "id": "7a47c55e",
   "metadata": {},
   "source": [
    "**Adding a Title**\n",
    "* Your graph isn't complete without a `title` that summarizes what the graph itself depicts. \n",
    "* The `title` is usually placed in the center, either above or below the graph. \n",
    "* The proper form for a graph title is \"y-axis variable vs. x-axis variable.\"\n",
    "* Adding title to a plot is very straightforward. It can be done with the title function as follows:"
   ]
  },
  {
   "cell_type": "code",
   "execution_count": 17,
   "id": "86d9a3c7",
   "metadata": {},
   "outputs": [
    {
     "data": {
      "image/png": "[encoded data removed]",
      "text/plain": [
       "<Figure size 432x288 with 1 Axes>"
      ]
     },
     "metadata": {
      "needs_background": "light"
     },
     "output_type": "display_data"
    }
   ],
   "source": [
    "plt.scatter(x.percent_senior, x.crime_rate, color = \"b\")\n",
    "plt.title(\"Crime_rate vs Percent_Senior\") #Adding The Title: on the top of the graph\n",
    "plt.show()"
   ]
  },
  {
   "cell_type": "markdown",
   "id": "75b732fa",
   "metadata": {},
   "source": [
    "**Adding The Labels**  \n",
    "\n",
    "* Axis labels are the variable names or descriptions that represent a particular axis. The axis label usually appears below or to the left of the axis.\n",
    "* To add a label to the X axis, xlabel function is used.\n",
    "* Similarly, to add a label to the Y axis, ylabel function is used."
   ]
  },
  {
   "cell_type": "code",
   "execution_count": 14,
   "id": "f90cb3b5",
   "metadata": {},
   "outputs": [
    {
     "data": {
      "image/png": "[encoded data removed]",
      "text/plain": [
       "<Figure size 432x288 with 1 Axes>"
      ]
     },
     "metadata": {
      "needs_background": "light"
     },
     "output_type": "display_data"
    }
   ],
   "source": [
    "plt.scatter(x.percent_city, x.crime_rate, color = \"g\") #tuning the plot\n",
    "plt.title(\"Crime_rate vs Percent_Senior\") #adding the `title`\n",
    "plt.xlabel(\"Percent_city\") #adding the `label` for the horizontal axis\n",
    "plt.ylabel(\"Crime_rate\") #adding the `label` for the vertical axis\n",
    "plt.show() #print the plot"
   ]
  },
  {
   "cell_type": "markdown",
   "id": "76cf4855",
   "metadata": {},
   "source": [
    "**Adding the Legends**\n",
    "\n",
    "* Now that you've added what the graph, X and Y axis represent, you're already halfway through the process of making your graphs intuitive.\n",
    "* You plotted the income of both work_force and physicians on the same graph above. How would a layman know which plot represents the work_force and which physicians? That's the problem solved by legend.\n",
    "* A legend is an area describing the elements of the graph. In the matplotlib library, there’s a function called legend which is used to place a legend on the axes, as follows:"
   ]
  },
  {
   "cell_type": "code",
   "execution_count": 16,
   "id": "b9ab4c02",
   "metadata": {},
   "outputs": [
    {
     "data": {
      "image/png": "[encoded data removed]",
      "text/plain": [
       "<Figure size 432x288 with 1 Axes>"
      ]
     },
     "metadata": {
      "needs_background": "light"
     },
     "output_type": "display_data"
    }
   ],
   "source": [
    "plt.plot(x.work_force, x.income, color = \"b\", label = \"work_force\")\n",
    "plt.plot(x.physicians, x.income, color = \"g\",label = \"physicians\")\n",
    "plt.legend() #adding the legends\n",
    "plt.show()"
   ]
  }
 ],
 "metadata": {
  "kernelspec": {
   "display_name": "Python 3 (ipykernel)",
   "language": "python",
   "name": "python3"
  },
  "language_info": {
   "codemirror_mode": {
    "name": "ipython",
    "version": 3
   },
   "file_extension": ".py",
   "mimetype": "text/x-python",
   "name": "python",
   "nbconvert_exporter": "python",
   "pygments_lexer": "ipython3",
   "version": "3.9.7"
  }
 },
 "nbformat": 4,
 "nbformat_minor": 5
}
